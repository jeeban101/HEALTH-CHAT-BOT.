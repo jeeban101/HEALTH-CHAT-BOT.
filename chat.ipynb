{
  "cells": [
    {
      "cell_type": "markdown",
      "source": [
        "#BUILDING CHATBOT WITH THE HELP OF TRAINED MODEL (CNN+RNN)"
      ],
      "metadata": {
        "id": "AXMhd9-jYE9d"
      }
    },
    {
      "cell_type": "markdown",
      "source": [
        "#IMPORTING PYTHON LIBRARIES AND MODULES"
      ],
      "metadata": {
        "id": "HyDnlRKYYEeG"
      }
    },
    {
      "cell_type": "code",
      "execution_count": null,
      "metadata": {
        "colab": {
          "base_uri": "https://localhost:8080/"
        },
        "id": "0BKGaexyTaxH",
        "outputId": "8d8a654c-b44a-41b3-b9f1-ff4659cb8f5e"
      },
      "outputs": [
        {
          "output_type": "stream",
          "name": "stdout",
          "text": [
            "Requirement already satisfied: colorama in /usr/local/lib/python3.7/dist-packages (0.4.4)\n"
          ]
        }
      ],
      "source": [
        "import json \n",
        "import numpy as np\n",
        "from tensorflow import keras\n",
        "from sklearn.preprocessing import LabelEncoder\n",
        "\n",
        "!pip install colorama\n",
        "import colorama \n",
        "colorama.init()\n",
        "from colorama import Fore, Style, Back\n",
        "import json\n",
        "import random\n",
        "import pickle"
      ]
    },
    {
      "cell_type": "markdown",
      "source": [
        "# CONNECTING TO GOOGLE DRIVE"
      ],
      "metadata": {
        "id": "yn5GKVtnYsZM"
      }
    },
    {
      "cell_type": "code",
      "execution_count": null,
      "metadata": {
        "colab": {
          "base_uri": "https://localhost:8080/"
        },
        "id": "IAs8KENwXeoZ",
        "outputId": "0054161f-a4a5-4d93-95d1-7e6bec6fcd4c"
      },
      "outputs": [
        {
          "output_type": "stream",
          "name": "stdout",
          "text": [
            "Drive already mounted at /content/gdrive; to attempt to forcibly remount, call drive.mount(\"/content/gdrive\", force_remount=True).\n"
          ]
        }
      ],
      "source": [
        "from google.colab import drive\n",
        "drive.mount('/content/gdrive')"
      ]
    },
    {
      "cell_type": "markdown",
      "source": [
        "#IMPORTING INTENT DATASET USED FOR TRAINING FOR MODEL "
      ],
      "metadata": {
        "id": "aZLbURHdYwd1"
      }
    },
    {
      "cell_type": "code",
      "execution_count": null,
      "metadata": {
        "id": "xMVEK7D0Tl7n"
      },
      "outputs": [],
      "source": [
        "with open(\"/content/gdrive/MyDrive/SoftComputing/intents.json\") as file:\n",
        "    data = json.load(file)"
      ]
    },
    {
      "cell_type": "markdown",
      "source": [
        "# PREDICTION PROCESSING AND TESTING MODEL"
      ],
      "metadata": {
        "id": "FT16yjhbY6hm"
      }
    },
    {
      "cell_type": "code",
      "execution_count": null,
      "metadata": {
        "id": "iIiV-D8vTmD9"
      },
      "outputs": [],
      "source": [
        "def chat():\n",
        "    # load trained model\n",
        "    model = keras.models.load_model('/content/gdrive/MyDrive/SoftComputing/chat_model')\n",
        "\n",
        "    # load tokenizer object\n",
        "    with open('/content/gdrive/MyDrive/SoftComputing/tokenizer.pickle', 'rb') as handle:\n",
        "        tokenizer = pickle.load(handle)\n",
        "\n",
        "    # load label encoder object\n",
        "    with open('/content/gdrive/MyDrive/SoftComputing/label_encoder.pickle', 'rb') as enc:\n",
        "        lbl_encoder = pickle.load(enc)\n",
        "\n",
        "    # parameters\n",
        "    max_len = 20\n",
        "    \n",
        "    while True:\n",
        "        print(Fore.LIGHTBLUE_EX + \"User: \" + Style.RESET_ALL, end=\"\")\n",
        "        inp = input()\n",
        "        if inp.lower() == \"quit\":\n",
        "            break\n",
        "\n",
        "        result = model.predict(keras.preprocessing.sequence.pad_sequences(tokenizer.texts_to_sequences([inp]),\n",
        "                                             truncating='post', maxlen=max_len))\n",
        "        tag = lbl_encoder.inverse_transform([np.argmax(result)])\n",
        "\n",
        "        for i in data['intents']:\n",
        "            if i['tag'] == tag:\n",
        "                print(Fore.GREEN + \"ChatBot:\" + Style.RESET_ALL , np.random.choice(i['responses']))\n",
        "\n",
        "        # print(Fore.GREEN + \"ChatBot:\" + Style.RESET_ALL,random.choice(responses))\n"
      ]
    },
    {
      "cell_type": "markdown",
      "source": [
        "# RUN CHATBOT"
      ],
      "metadata": {
        "id": "cSpqyH75ZcAW"
      }
    },
    {
      "cell_type": "code",
      "execution_count": null,
      "metadata": {
        "colab": {
          "base_uri": "https://localhost:8080/"
        },
        "id": "RFNO7KE5TmG-",
        "outputId": "6f74546a-5a85-40cd-a1d5-9ad898f92dc1"
      },
      "outputs": [
        {
          "name": "stdout",
          "output_type": "stream",
          "text": [
            "Start messaging with the bot (type quit to stop)!\n",
            "User: Hey\n",
            "ChatBot: Hi there\n",
            "ChatBot: Hi there, how can I help?\n",
            "User: give me a hand please\n",
            "ChatBot: Tell me how can assist you\n",
            "User: brief about mrsa\n",
            "ChatBot: 1. Methicillin-resistant Staphylococcus aureus (MRSA) infection is caused by a type of staph bacteria that's become resistant to many of the antibiotics used to treat ordinary staph infections.2. Treatment of MRSA at home usually includes a 7- to 10-day course of an antibiotic (by mouth) such as trimethoprim-sulfamethoxazole (brand name: Bactrim), clindamycin, minocycline, linezolid, or doxycycline.\n",
            "User: Tell me about ear infection\n",
            "ChatBot: 1. An ear infection occurs when a bacterial or viral infection affects the middle ear.2. Pain relievers:Children younger than 6 months: only give acetaminophen.Children 6 months or older: it is OK to give acetaminophen or ibuprofen.Never give aspirin to children because it can cause Reyeâs syndrome, a rare but very serious illness that harms the liver and brain.\n",
            "User: medication for covid\n",
            "ChatBot: Doxycycline 100mg bd 5days ,Ivermectin 12mg od 3days, Vit b complex, Vit c 500mg tid, Zinc tabs.\n",
            "User: medication for inflammatory bowel disease?\n",
            "ChatBot: mesalamine (Asacol HD, Delzicol, others), balsalazide (Colazal) , olsalazine (Dipentum).\n",
            "User: chickenpox\n",
            "ChatBot: 1. An infectious disease causing a mild fever and a rash of itchy inflamed pimples which turn to blisters and then loose scabs. It is caused by the herpes zoster virus and mainly affects children.2. If you or your child are at high risk of complications, your doctor may suggest an antiviral drug such as acyclovir (Zovirax, Sitavig). This medication might lessen the severity of chickenpox when given within 24 hours after the rash first appears.\n",
            "User: What do you know about mucormycosis?\n",
            "ChatBot: Mucormycosis is a serious infection and needs to be treated with prescription antifungal medicine, usually amphotericin B, posaconazole, or isavuconazole. These medicines are given through a vein (amphotericin B, posaconazole, isavuconazole) or by mouth (posaconazole, isavuconazole).\n",
            "User: have a complaint\n",
            "ChatBot: Please provide us your complaint in order to assist you\n",
            "User: i start to feel emotional\n",
            "ChatBot: It happens sometimes. Just relax and keep calm. Inhale and Exhale. And don't forget to drink a lot of water.\n",
            "User: That's helpful\n",
            "ChatBot: Happy to help!\n",
            "ChatBot: Happy to help!\n",
            "User: Nice chatting to you\n",
            "ChatBot: Hello\n",
            "ChatBot: Hi there, how can I help?\n",
            "User: Goodbye\n",
            "ChatBot: Bye! Come back again\n",
            "ChatBot: See you!\n",
            "User: quit\n"
          ]
        }
      ],
      "source": [
        "print(Fore.YELLOW + \"Start messaging with the bot (type quit to stop)!\" + Style.RESET_ALL)\n",
        "chat()"
      ]
    }
  ],
  "metadata": {
    "colab": {
      "name": "chat.ipynb",
      "provenance": [],
      "collapsed_sections": []
    },
    "kernelspec": {
      "display_name": "Python 3",
      "name": "python3"
    },
    "language_info": {
      "name": "python"
    }
  },
  "nbformat": 4,
  "nbformat_minor": 0
}